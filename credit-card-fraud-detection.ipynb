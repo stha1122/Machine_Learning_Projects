{
 "cells": [
  {
   "cell_type": "code",
   "execution_count": 1,
   "id": "cb97e151",
   "metadata": {
    "execution": {
     "iopub.execute_input": "2023-08-26T08:01:09.937620Z",
     "iopub.status.busy": "2023-08-26T08:01:09.937235Z",
     "iopub.status.idle": "2023-08-26T08:01:11.110756Z",
     "shell.execute_reply": "2023-08-26T08:01:11.109763Z"
    },
    "papermill": {
     "duration": 1.183213,
     "end_time": "2023-08-26T08:01:11.113099",
     "exception": false,
     "start_time": "2023-08-26T08:01:09.929886",
     "status": "completed"
    },
    "tags": []
   },
   "outputs": [
    {
     "name": "stderr",
     "output_type": "stream",
     "text": [
      "/opt/conda/lib/python3.10/site-packages/scipy/__init__.py:146: UserWarning: A NumPy version >=1.16.5 and <1.23.0 is required for this version of SciPy (detected version 1.23.5\n",
      "  warnings.warn(f\"A NumPy version >={np_minversion} and <{np_maxversion}\"\n"
     ]
    }
   ],
   "source": [
    "# Importing the dependencies\n",
    "import numpy as np\n",
    "import pandas as pd\n",
    "from sklearn.model_selection import train_test_split\n",
    "from sklearn.linear_model import LogisticRegression\n",
    "from sklearn.metrics import accuracy_score"
   ]
  },
  {
   "cell_type": "code",
   "execution_count": 2,
   "id": "39007f01",
   "metadata": {
    "execution": {
     "iopub.execute_input": "2023-08-26T08:01:11.128140Z",
     "iopub.status.busy": "2023-08-26T08:01:11.127595Z",
     "iopub.status.idle": "2023-08-26T08:01:23.811563Z",
     "shell.execute_reply": "2023-08-26T08:01:23.810714Z"
    },
    "papermill": {
     "duration": 12.693642,
     "end_time": "2023-08-26T08:01:23.814134",
     "exception": false,
     "start_time": "2023-08-26T08:01:11.120492",
     "status": "completed"
    },
    "tags": []
   },
   "outputs": [],
   "source": [
    "# loading the dataset to pandas dataframe\n",
    "# importing the train and test data sets\n",
    "\n",
    "data1 = pd.read_csv('/kaggle/input/fraud-detection/fraudTest.csv')\n",
    "data2 = pd.read_csv('/kaggle/input/fraud-detection/fraudTrain.csv')\n",
    "credit_card_data=pd.concat([data1, data2])\n"
   ]
  },
  {
   "cell_type": "code",
   "execution_count": 3,
   "id": "f5b37450",
   "metadata": {
    "execution": {
     "iopub.execute_input": "2023-08-26T08:01:23.827094Z",
     "iopub.status.busy": "2023-08-26T08:01:23.826771Z",
     "iopub.status.idle": "2023-08-26T08:01:23.856314Z",
     "shell.execute_reply": "2023-08-26T08:01:23.854848Z"
    },
    "papermill": {
     "duration": 0.038449,
     "end_time": "2023-08-26T08:01:23.858381",
     "exception": false,
     "start_time": "2023-08-26T08:01:23.819932",
     "status": "completed"
    },
    "tags": []
   },
   "outputs": [
    {
     "data": {
      "text/html": [
       "<div>\n",
       "<style scoped>\n",
       "    .dataframe tbody tr th:only-of-type {\n",
       "        vertical-align: middle;\n",
       "    }\n",
       "\n",
       "    .dataframe tbody tr th {\n",
       "        vertical-align: top;\n",
       "    }\n",
       "\n",
       "    .dataframe thead th {\n",
       "        text-align: right;\n",
       "    }\n",
       "</style>\n",
       "<table border=\"1\" class=\"dataframe\">\n",
       "  <thead>\n",
       "    <tr style=\"text-align: right;\">\n",
       "      <th></th>\n",
       "      <th>Unnamed: 0</th>\n",
       "      <th>trans_date_trans_time</th>\n",
       "      <th>cc_num</th>\n",
       "      <th>merchant</th>\n",
       "      <th>category</th>\n",
       "      <th>amt</th>\n",
       "      <th>first</th>\n",
       "      <th>last</th>\n",
       "      <th>gender</th>\n",
       "      <th>street</th>\n",
       "      <th>...</th>\n",
       "      <th>lat</th>\n",
       "      <th>long</th>\n",
       "      <th>city_pop</th>\n",
       "      <th>job</th>\n",
       "      <th>dob</th>\n",
       "      <th>trans_num</th>\n",
       "      <th>unix_time</th>\n",
       "      <th>merch_lat</th>\n",
       "      <th>merch_long</th>\n",
       "      <th>is_fraud</th>\n",
       "    </tr>\n",
       "  </thead>\n",
       "  <tbody>\n",
       "    <tr>\n",
       "      <th>0</th>\n",
       "      <td>0</td>\n",
       "      <td>2020-06-21 12:14:25</td>\n",
       "      <td>2291163933867244</td>\n",
       "      <td>fraud_Kirlin and Sons</td>\n",
       "      <td>personal_care</td>\n",
       "      <td>2.86</td>\n",
       "      <td>Jeff</td>\n",
       "      <td>Elliott</td>\n",
       "      <td>M</td>\n",
       "      <td>351 Darlene Green</td>\n",
       "      <td>...</td>\n",
       "      <td>33.9659</td>\n",
       "      <td>-80.9355</td>\n",
       "      <td>333497</td>\n",
       "      <td>Mechanical engineer</td>\n",
       "      <td>1968-03-19</td>\n",
       "      <td>2da90c7d74bd46a0caf3777415b3ebd3</td>\n",
       "      <td>1371816865</td>\n",
       "      <td>33.986391</td>\n",
       "      <td>-81.200714</td>\n",
       "      <td>0</td>\n",
       "    </tr>\n",
       "    <tr>\n",
       "      <th>1</th>\n",
       "      <td>1</td>\n",
       "      <td>2020-06-21 12:14:33</td>\n",
       "      <td>3573030041201292</td>\n",
       "      <td>fraud_Sporer-Keebler</td>\n",
       "      <td>personal_care</td>\n",
       "      <td>29.84</td>\n",
       "      <td>Joanne</td>\n",
       "      <td>Williams</td>\n",
       "      <td>F</td>\n",
       "      <td>3638 Marsh Union</td>\n",
       "      <td>...</td>\n",
       "      <td>40.3207</td>\n",
       "      <td>-110.4360</td>\n",
       "      <td>302</td>\n",
       "      <td>Sales professional, IT</td>\n",
       "      <td>1990-01-17</td>\n",
       "      <td>324cc204407e99f51b0d6ca0055005e7</td>\n",
       "      <td>1371816873</td>\n",
       "      <td>39.450498</td>\n",
       "      <td>-109.960431</td>\n",
       "      <td>0</td>\n",
       "    </tr>\n",
       "    <tr>\n",
       "      <th>2</th>\n",
       "      <td>2</td>\n",
       "      <td>2020-06-21 12:14:53</td>\n",
       "      <td>3598215285024754</td>\n",
       "      <td>fraud_Swaniawski, Nitzsche and Welch</td>\n",
       "      <td>health_fitness</td>\n",
       "      <td>41.28</td>\n",
       "      <td>Ashley</td>\n",
       "      <td>Lopez</td>\n",
       "      <td>F</td>\n",
       "      <td>9333 Valentine Point</td>\n",
       "      <td>...</td>\n",
       "      <td>40.6729</td>\n",
       "      <td>-73.5365</td>\n",
       "      <td>34496</td>\n",
       "      <td>Librarian, public</td>\n",
       "      <td>1970-10-21</td>\n",
       "      <td>c81755dbbbea9d5c77f094348a7579be</td>\n",
       "      <td>1371816893</td>\n",
       "      <td>40.495810</td>\n",
       "      <td>-74.196111</td>\n",
       "      <td>0</td>\n",
       "    </tr>\n",
       "    <tr>\n",
       "      <th>3</th>\n",
       "      <td>3</td>\n",
       "      <td>2020-06-21 12:15:15</td>\n",
       "      <td>3591919803438423</td>\n",
       "      <td>fraud_Haley Group</td>\n",
       "      <td>misc_pos</td>\n",
       "      <td>60.05</td>\n",
       "      <td>Brian</td>\n",
       "      <td>Williams</td>\n",
       "      <td>M</td>\n",
       "      <td>32941 Krystal Mill Apt. 552</td>\n",
       "      <td>...</td>\n",
       "      <td>28.5697</td>\n",
       "      <td>-80.8191</td>\n",
       "      <td>54767</td>\n",
       "      <td>Set designer</td>\n",
       "      <td>1987-07-25</td>\n",
       "      <td>2159175b9efe66dc301f149d3d5abf8c</td>\n",
       "      <td>1371816915</td>\n",
       "      <td>28.812398</td>\n",
       "      <td>-80.883061</td>\n",
       "      <td>0</td>\n",
       "    </tr>\n",
       "    <tr>\n",
       "      <th>4</th>\n",
       "      <td>4</td>\n",
       "      <td>2020-06-21 12:15:17</td>\n",
       "      <td>3526826139003047</td>\n",
       "      <td>fraud_Johnston-Casper</td>\n",
       "      <td>travel</td>\n",
       "      <td>3.19</td>\n",
       "      <td>Nathan</td>\n",
       "      <td>Massey</td>\n",
       "      <td>M</td>\n",
       "      <td>5783 Evan Roads Apt. 465</td>\n",
       "      <td>...</td>\n",
       "      <td>44.2529</td>\n",
       "      <td>-85.0170</td>\n",
       "      <td>1126</td>\n",
       "      <td>Furniture designer</td>\n",
       "      <td>1955-07-06</td>\n",
       "      <td>57ff021bd3f328f8738bb535c302a31b</td>\n",
       "      <td>1371816917</td>\n",
       "      <td>44.959148</td>\n",
       "      <td>-85.884734</td>\n",
       "      <td>0</td>\n",
       "    </tr>\n",
       "  </tbody>\n",
       "</table>\n",
       "<p>5 rows × 23 columns</p>\n",
       "</div>"
      ],
      "text/plain": [
       "   Unnamed: 0 trans_date_trans_time            cc_num  \\\n",
       "0           0   2020-06-21 12:14:25  2291163933867244   \n",
       "1           1   2020-06-21 12:14:33  3573030041201292   \n",
       "2           2   2020-06-21 12:14:53  3598215285024754   \n",
       "3           3   2020-06-21 12:15:15  3591919803438423   \n",
       "4           4   2020-06-21 12:15:17  3526826139003047   \n",
       "\n",
       "                               merchant        category    amt   first  \\\n",
       "0                 fraud_Kirlin and Sons   personal_care   2.86    Jeff   \n",
       "1                  fraud_Sporer-Keebler   personal_care  29.84  Joanne   \n",
       "2  fraud_Swaniawski, Nitzsche and Welch  health_fitness  41.28  Ashley   \n",
       "3                     fraud_Haley Group        misc_pos  60.05   Brian   \n",
       "4                 fraud_Johnston-Casper          travel   3.19  Nathan   \n",
       "\n",
       "       last gender                       street  ...      lat      long  \\\n",
       "0   Elliott      M            351 Darlene Green  ...  33.9659  -80.9355   \n",
       "1  Williams      F             3638 Marsh Union  ...  40.3207 -110.4360   \n",
       "2     Lopez      F         9333 Valentine Point  ...  40.6729  -73.5365   \n",
       "3  Williams      M  32941 Krystal Mill Apt. 552  ...  28.5697  -80.8191   \n",
       "4    Massey      M     5783 Evan Roads Apt. 465  ...  44.2529  -85.0170   \n",
       "\n",
       "   city_pop                     job         dob  \\\n",
       "0    333497     Mechanical engineer  1968-03-19   \n",
       "1       302  Sales professional, IT  1990-01-17   \n",
       "2     34496       Librarian, public  1970-10-21   \n",
       "3     54767            Set designer  1987-07-25   \n",
       "4      1126      Furniture designer  1955-07-06   \n",
       "\n",
       "                          trans_num   unix_time  merch_lat  merch_long  \\\n",
       "0  2da90c7d74bd46a0caf3777415b3ebd3  1371816865  33.986391  -81.200714   \n",
       "1  324cc204407e99f51b0d6ca0055005e7  1371816873  39.450498 -109.960431   \n",
       "2  c81755dbbbea9d5c77f094348a7579be  1371816893  40.495810  -74.196111   \n",
       "3  2159175b9efe66dc301f149d3d5abf8c  1371816915  28.812398  -80.883061   \n",
       "4  57ff021bd3f328f8738bb535c302a31b  1371816917  44.959148  -85.884734   \n",
       "\n",
       "   is_fraud  \n",
       "0         0  \n",
       "1         0  \n",
       "2         0  \n",
       "3         0  \n",
       "4         0  \n",
       "\n",
       "[5 rows x 23 columns]"
      ]
     },
     "execution_count": 3,
     "metadata": {},
     "output_type": "execute_result"
    }
   ],
   "source": [
    "# first 5 rows of the dataset\n",
    "credit_card_data.head()"
   ]
  },
  {
   "cell_type": "code",
   "execution_count": 4,
   "id": "6de0305b",
   "metadata": {
    "execution": {
     "iopub.execute_input": "2023-08-26T08:01:23.871863Z",
     "iopub.status.busy": "2023-08-26T08:01:23.871569Z",
     "iopub.status.idle": "2023-08-26T08:01:23.892088Z",
     "shell.execute_reply": "2023-08-26T08:01:23.891129Z"
    },
    "papermill": {
     "duration": 0.029381,
     "end_time": "2023-08-26T08:01:23.893927",
     "exception": false,
     "start_time": "2023-08-26T08:01:23.864546",
     "status": "completed"
    },
    "tags": []
   },
   "outputs": [
    {
     "data": {
      "text/html": [
       "<div>\n",
       "<style scoped>\n",
       "    .dataframe tbody tr th:only-of-type {\n",
       "        vertical-align: middle;\n",
       "    }\n",
       "\n",
       "    .dataframe tbody tr th {\n",
       "        vertical-align: top;\n",
       "    }\n",
       "\n",
       "    .dataframe thead th {\n",
       "        text-align: right;\n",
       "    }\n",
       "</style>\n",
       "<table border=\"1\" class=\"dataframe\">\n",
       "  <thead>\n",
       "    <tr style=\"text-align: right;\">\n",
       "      <th></th>\n",
       "      <th>Unnamed: 0</th>\n",
       "      <th>trans_date_trans_time</th>\n",
       "      <th>cc_num</th>\n",
       "      <th>merchant</th>\n",
       "      <th>category</th>\n",
       "      <th>amt</th>\n",
       "      <th>first</th>\n",
       "      <th>last</th>\n",
       "      <th>gender</th>\n",
       "      <th>street</th>\n",
       "      <th>...</th>\n",
       "      <th>lat</th>\n",
       "      <th>long</th>\n",
       "      <th>city_pop</th>\n",
       "      <th>job</th>\n",
       "      <th>dob</th>\n",
       "      <th>trans_num</th>\n",
       "      <th>unix_time</th>\n",
       "      <th>merch_lat</th>\n",
       "      <th>merch_long</th>\n",
       "      <th>is_fraud</th>\n",
       "    </tr>\n",
       "  </thead>\n",
       "  <tbody>\n",
       "    <tr>\n",
       "      <th>1296670</th>\n",
       "      <td>1296670</td>\n",
       "      <td>2020-06-21 12:12:08</td>\n",
       "      <td>30263540414123</td>\n",
       "      <td>fraud_Reichel Inc</td>\n",
       "      <td>entertainment</td>\n",
       "      <td>15.56</td>\n",
       "      <td>Erik</td>\n",
       "      <td>Patterson</td>\n",
       "      <td>M</td>\n",
       "      <td>162 Jessica Row Apt. 072</td>\n",
       "      <td>...</td>\n",
       "      <td>37.7175</td>\n",
       "      <td>-112.4777</td>\n",
       "      <td>258</td>\n",
       "      <td>Geoscientist</td>\n",
       "      <td>1961-11-24</td>\n",
       "      <td>440b587732da4dc1a6395aba5fb41669</td>\n",
       "      <td>1371816728</td>\n",
       "      <td>36.841266</td>\n",
       "      <td>-111.690765</td>\n",
       "      <td>0</td>\n",
       "    </tr>\n",
       "    <tr>\n",
       "      <th>1296671</th>\n",
       "      <td>1296671</td>\n",
       "      <td>2020-06-21 12:12:19</td>\n",
       "      <td>6011149206456997</td>\n",
       "      <td>fraud_Abernathy and Sons</td>\n",
       "      <td>food_dining</td>\n",
       "      <td>51.70</td>\n",
       "      <td>Jeffrey</td>\n",
       "      <td>White</td>\n",
       "      <td>M</td>\n",
       "      <td>8617 Holmes Terrace Suite 651</td>\n",
       "      <td>...</td>\n",
       "      <td>39.2667</td>\n",
       "      <td>-77.5101</td>\n",
       "      <td>100</td>\n",
       "      <td>Production assistant, television</td>\n",
       "      <td>1979-12-11</td>\n",
       "      <td>278000d2e0d2277d1de2f890067dcc0a</td>\n",
       "      <td>1371816739</td>\n",
       "      <td>38.906881</td>\n",
       "      <td>-78.246528</td>\n",
       "      <td>0</td>\n",
       "    </tr>\n",
       "    <tr>\n",
       "      <th>1296672</th>\n",
       "      <td>1296672</td>\n",
       "      <td>2020-06-21 12:12:32</td>\n",
       "      <td>3514865930894695</td>\n",
       "      <td>fraud_Stiedemann Ltd</td>\n",
       "      <td>food_dining</td>\n",
       "      <td>105.93</td>\n",
       "      <td>Christopher</td>\n",
       "      <td>Castaneda</td>\n",
       "      <td>M</td>\n",
       "      <td>1632 Cohen Drive Suite 639</td>\n",
       "      <td>...</td>\n",
       "      <td>32.9396</td>\n",
       "      <td>-105.8189</td>\n",
       "      <td>899</td>\n",
       "      <td>Naval architect</td>\n",
       "      <td>1967-08-30</td>\n",
       "      <td>483f52fe67fabef353d552c1e662974c</td>\n",
       "      <td>1371816752</td>\n",
       "      <td>33.619513</td>\n",
       "      <td>-105.130529</td>\n",
       "      <td>0</td>\n",
       "    </tr>\n",
       "    <tr>\n",
       "      <th>1296673</th>\n",
       "      <td>1296673</td>\n",
       "      <td>2020-06-21 12:13:36</td>\n",
       "      <td>2720012583106919</td>\n",
       "      <td>fraud_Reinger, Weissnat and Strosin</td>\n",
       "      <td>food_dining</td>\n",
       "      <td>74.90</td>\n",
       "      <td>Joseph</td>\n",
       "      <td>Murray</td>\n",
       "      <td>M</td>\n",
       "      <td>42933 Ryan Underpass</td>\n",
       "      <td>...</td>\n",
       "      <td>43.3526</td>\n",
       "      <td>-102.5411</td>\n",
       "      <td>1126</td>\n",
       "      <td>Volunteer coordinator</td>\n",
       "      <td>1980-08-18</td>\n",
       "      <td>d667cdcbadaaed3da3f4020e83591c83</td>\n",
       "      <td>1371816816</td>\n",
       "      <td>42.788940</td>\n",
       "      <td>-103.241160</td>\n",
       "      <td>0</td>\n",
       "    </tr>\n",
       "    <tr>\n",
       "      <th>1296674</th>\n",
       "      <td>1296674</td>\n",
       "      <td>2020-06-21 12:13:37</td>\n",
       "      <td>4292902571056973207</td>\n",
       "      <td>fraud_Langosh, Wintheiser and Hyatt</td>\n",
       "      <td>food_dining</td>\n",
       "      <td>4.30</td>\n",
       "      <td>Jeffrey</td>\n",
       "      <td>Smith</td>\n",
       "      <td>M</td>\n",
       "      <td>135 Joseph Mountains</td>\n",
       "      <td>...</td>\n",
       "      <td>45.8433</td>\n",
       "      <td>-113.8748</td>\n",
       "      <td>218</td>\n",
       "      <td>Therapist, horticultural</td>\n",
       "      <td>1995-08-16</td>\n",
       "      <td>8f7c8e4ab7f25875d753b422917c98c9</td>\n",
       "      <td>1371816817</td>\n",
       "      <td>46.565983</td>\n",
       "      <td>-114.186110</td>\n",
       "      <td>0</td>\n",
       "    </tr>\n",
       "  </tbody>\n",
       "</table>\n",
       "<p>5 rows × 23 columns</p>\n",
       "</div>"
      ],
      "text/plain": [
       "         Unnamed: 0 trans_date_trans_time               cc_num  \\\n",
       "1296670     1296670   2020-06-21 12:12:08       30263540414123   \n",
       "1296671     1296671   2020-06-21 12:12:19     6011149206456997   \n",
       "1296672     1296672   2020-06-21 12:12:32     3514865930894695   \n",
       "1296673     1296673   2020-06-21 12:13:36     2720012583106919   \n",
       "1296674     1296674   2020-06-21 12:13:37  4292902571056973207   \n",
       "\n",
       "                                    merchant       category     amt  \\\n",
       "1296670                    fraud_Reichel Inc  entertainment   15.56   \n",
       "1296671             fraud_Abernathy and Sons    food_dining   51.70   \n",
       "1296672                 fraud_Stiedemann Ltd    food_dining  105.93   \n",
       "1296673  fraud_Reinger, Weissnat and Strosin    food_dining   74.90   \n",
       "1296674  fraud_Langosh, Wintheiser and Hyatt    food_dining    4.30   \n",
       "\n",
       "               first       last gender                         street  ...  \\\n",
       "1296670         Erik  Patterson      M       162 Jessica Row Apt. 072  ...   \n",
       "1296671      Jeffrey      White      M  8617 Holmes Terrace Suite 651  ...   \n",
       "1296672  Christopher  Castaneda      M     1632 Cohen Drive Suite 639  ...   \n",
       "1296673       Joseph     Murray      M           42933 Ryan Underpass  ...   \n",
       "1296674      Jeffrey      Smith      M           135 Joseph Mountains  ...   \n",
       "\n",
       "             lat      long  city_pop                               job  \\\n",
       "1296670  37.7175 -112.4777       258                      Geoscientist   \n",
       "1296671  39.2667  -77.5101       100  Production assistant, television   \n",
       "1296672  32.9396 -105.8189       899                   Naval architect   \n",
       "1296673  43.3526 -102.5411      1126             Volunteer coordinator   \n",
       "1296674  45.8433 -113.8748       218          Therapist, horticultural   \n",
       "\n",
       "                dob                         trans_num   unix_time  merch_lat  \\\n",
       "1296670  1961-11-24  440b587732da4dc1a6395aba5fb41669  1371816728  36.841266   \n",
       "1296671  1979-12-11  278000d2e0d2277d1de2f890067dcc0a  1371816739  38.906881   \n",
       "1296672  1967-08-30  483f52fe67fabef353d552c1e662974c  1371816752  33.619513   \n",
       "1296673  1980-08-18  d667cdcbadaaed3da3f4020e83591c83  1371816816  42.788940   \n",
       "1296674  1995-08-16  8f7c8e4ab7f25875d753b422917c98c9  1371816817  46.565983   \n",
       "\n",
       "         merch_long  is_fraud  \n",
       "1296670 -111.690765         0  \n",
       "1296671  -78.246528         0  \n",
       "1296672 -105.130529         0  \n",
       "1296673 -103.241160         0  \n",
       "1296674 -114.186110         0  \n",
       "\n",
       "[5 rows x 23 columns]"
      ]
     },
     "execution_count": 4,
     "metadata": {},
     "output_type": "execute_result"
    }
   ],
   "source": [
    "credit_card_data.tail()"
   ]
  },
  {
   "cell_type": "code",
   "execution_count": 5,
   "id": "522f4eaa",
   "metadata": {
    "execution": {
     "iopub.execute_input": "2023-08-26T08:01:23.907459Z",
     "iopub.status.busy": "2023-08-26T08:01:23.907144Z",
     "iopub.status.idle": "2023-08-26T08:01:23.925393Z",
     "shell.execute_reply": "2023-08-26T08:01:23.923464Z"
    },
    "papermill": {
     "duration": 0.027697,
     "end_time": "2023-08-26T08:01:23.927858",
     "exception": false,
     "start_time": "2023-08-26T08:01:23.900161",
     "status": "completed"
    },
    "tags": []
   },
   "outputs": [
    {
     "name": "stdout",
     "output_type": "stream",
     "text": [
      "<class 'pandas.core.frame.DataFrame'>\n",
      "Int64Index: 1852394 entries, 0 to 1296674\n",
      "Data columns (total 23 columns):\n",
      " #   Column                 Dtype  \n",
      "---  ------                 -----  \n",
      " 0   Unnamed: 0             int64  \n",
      " 1   trans_date_trans_time  object \n",
      " 2   cc_num                 int64  \n",
      " 3   merchant               object \n",
      " 4   category               object \n",
      " 5   amt                    float64\n",
      " 6   first                  object \n",
      " 7   last                   object \n",
      " 8   gender                 object \n",
      " 9   street                 object \n",
      " 10  city                   object \n",
      " 11  state                  object \n",
      " 12  zip                    int64  \n",
      " 13  lat                    float64\n",
      " 14  long                   float64\n",
      " 15  city_pop               int64  \n",
      " 16  job                    object \n",
      " 17  dob                    object \n",
      " 18  trans_num              object \n",
      " 19  unix_time              int64  \n",
      " 20  merch_lat              float64\n",
      " 21  merch_long             float64\n",
      " 22  is_fraud               int64  \n",
      "dtypes: float64(5), int64(6), object(12)\n",
      "memory usage: 339.2+ MB\n"
     ]
    }
   ],
   "source": [
    "# dataset information\n",
    "credit_card_data.info()"
   ]
  },
  {
   "cell_type": "code",
   "execution_count": 6,
   "id": "6148c96f",
   "metadata": {
    "execution": {
     "iopub.execute_input": "2023-08-26T08:01:23.943103Z",
     "iopub.status.busy": "2023-08-26T08:01:23.942743Z",
     "iopub.status.idle": "2023-08-26T08:01:26.877212Z",
     "shell.execute_reply": "2023-08-26T08:01:26.876017Z"
    },
    "papermill": {
     "duration": 2.944271,
     "end_time": "2023-08-26T08:01:26.879720",
     "exception": false,
     "start_time": "2023-08-26T08:01:23.935449",
     "status": "completed"
    },
    "tags": []
   },
   "outputs": [
    {
     "data": {
      "text/plain": [
       "Unnamed: 0               0\n",
       "trans_date_trans_time    0\n",
       "cc_num                   0\n",
       "merchant                 0\n",
       "category                 0\n",
       "amt                      0\n",
       "first                    0\n",
       "last                     0\n",
       "gender                   0\n",
       "street                   0\n",
       "city                     0\n",
       "state                    0\n",
       "zip                      0\n",
       "lat                      0\n",
       "long                     0\n",
       "city_pop                 0\n",
       "job                      0\n",
       "dob                      0\n",
       "trans_num                0\n",
       "unix_time                0\n",
       "merch_lat                0\n",
       "merch_long               0\n",
       "is_fraud                 0\n",
       "dtype: int64"
      ]
     },
     "execution_count": 6,
     "metadata": {},
     "output_type": "execute_result"
    }
   ],
   "source": [
    "# checking the number of missing values in each column\n",
    "credit_card_data.isnull().sum()"
   ]
  },
  {
   "cell_type": "code",
   "execution_count": 7,
   "id": "3edca7e6",
   "metadata": {
    "execution": {
     "iopub.execute_input": "2023-08-26T08:01:26.894346Z",
     "iopub.status.busy": "2023-08-26T08:01:26.894020Z",
     "iopub.status.idle": "2023-08-26T08:01:26.917862Z",
     "shell.execute_reply": "2023-08-26T08:01:26.916980Z"
    },
    "papermill": {
     "duration": 0.033355,
     "end_time": "2023-08-26T08:01:26.919945",
     "exception": false,
     "start_time": "2023-08-26T08:01:26.886590",
     "status": "completed"
    },
    "tags": []
   },
   "outputs": [
    {
     "data": {
      "text/plain": [
       "0    1842743\n",
       "1       9651\n",
       "Name: is_fraud, dtype: int64"
      ]
     },
     "execution_count": 7,
     "metadata": {},
     "output_type": "execute_result"
    }
   ],
   "source": [
    "# distribution of legit transactions and fradulant transactions\n",
    "credit_card_data['is_fraud'].value_counts()"
   ]
  },
  {
   "cell_type": "code",
   "execution_count": 8,
   "id": "def3c323",
   "metadata": {
    "execution": {
     "iopub.execute_input": "2023-08-26T08:01:26.934106Z",
     "iopub.status.busy": "2023-08-26T08:01:26.933844Z",
     "iopub.status.idle": "2023-08-26T08:01:27.741984Z",
     "shell.execute_reply": "2023-08-26T08:01:27.740988Z"
    },
    "papermill": {
     "duration": 0.817627,
     "end_time": "2023-08-26T08:01:27.744205",
     "exception": false,
     "start_time": "2023-08-26T08:01:26.926578",
     "status": "completed"
    },
    "tags": []
   },
   "outputs": [],
   "source": [
    "# separating the data for analysis\n",
    "legit=credit_card_data[credit_card_data.is_fraud==0]\n",
    "fraud=credit_card_data[credit_card_data.is_fraud==1]"
   ]
  },
  {
   "cell_type": "code",
   "execution_count": 9,
   "id": "70b87c02",
   "metadata": {
    "execution": {
     "iopub.execute_input": "2023-08-26T08:01:27.759025Z",
     "iopub.status.busy": "2023-08-26T08:01:27.758354Z",
     "iopub.status.idle": "2023-08-26T08:01:27.764040Z",
     "shell.execute_reply": "2023-08-26T08:01:27.762826Z"
    },
    "papermill": {
     "duration": 0.014804,
     "end_time": "2023-08-26T08:01:27.765788",
     "exception": false,
     "start_time": "2023-08-26T08:01:27.750984",
     "status": "completed"
    },
    "tags": []
   },
   "outputs": [
    {
     "name": "stdout",
     "output_type": "stream",
     "text": [
      "(1842743, 23)\n",
      "(9651, 23)\n"
     ]
    }
   ],
   "source": [
    "print(legit.shape)\n",
    "print(fraud.shape)"
   ]
  },
  {
   "cell_type": "code",
   "execution_count": 10,
   "id": "5f850566",
   "metadata": {
    "execution": {
     "iopub.execute_input": "2023-08-26T08:01:27.779579Z",
     "iopub.status.busy": "2023-08-26T08:01:27.779204Z",
     "iopub.status.idle": "2023-08-26T08:01:27.850373Z",
     "shell.execute_reply": "2023-08-26T08:01:27.849025Z"
    },
    "papermill": {
     "duration": 0.080262,
     "end_time": "2023-08-26T08:01:27.852282",
     "exception": false,
     "start_time": "2023-08-26T08:01:27.772020",
     "status": "completed"
    },
    "tags": []
   },
   "outputs": [
    {
     "data": {
      "text/plain": [
       "count    1.842743e+06\n",
       "mean     6.765128e+01\n",
       "std      1.535481e+02\n",
       "min      1.000000e+00\n",
       "25%      9.610000e+00\n",
       "50%      4.724000e+01\n",
       "75%      8.256000e+01\n",
       "max      2.894890e+04\n",
       "Name: amt, dtype: float64"
      ]
     },
     "execution_count": 10,
     "metadata": {},
     "output_type": "execute_result"
    }
   ],
   "source": [
    "# statistical measures fo the data\n",
    "legit.amt.describe()"
   ]
  },
  {
   "cell_type": "code",
   "execution_count": 11,
   "id": "c80f549c",
   "metadata": {
    "execution": {
     "iopub.execute_input": "2023-08-26T08:01:27.867691Z",
     "iopub.status.busy": "2023-08-26T08:01:27.867365Z",
     "iopub.status.idle": "2023-08-26T08:01:27.878215Z",
     "shell.execute_reply": "2023-08-26T08:01:27.876936Z"
    },
    "papermill": {
     "duration": 0.020851,
     "end_time": "2023-08-26T08:01:27.880360",
     "exception": false,
     "start_time": "2023-08-26T08:01:27.859509",
     "status": "completed"
    },
    "tags": []
   },
   "outputs": [
    {
     "data": {
      "text/plain": [
       "count    9651.000000\n",
       "mean      530.661412\n",
       "std       391.028873\n",
       "min         1.060000\n",
       "25%       240.075000\n",
       "50%       390.000000\n",
       "75%       902.365000\n",
       "max      1376.040000\n",
       "Name: amt, dtype: float64"
      ]
     },
     "execution_count": 11,
     "metadata": {},
     "output_type": "execute_result"
    }
   ],
   "source": [
    "fraud.amt.describe()"
   ]
  },
  {
   "cell_type": "code",
   "execution_count": 12,
   "id": "0fa12e0b",
   "metadata": {
    "execution": {
     "iopub.execute_input": "2023-08-26T08:01:27.895624Z",
     "iopub.status.busy": "2023-08-26T08:01:27.895239Z",
     "iopub.status.idle": "2023-08-26T08:01:28.060168Z",
     "shell.execute_reply": "2023-08-26T08:01:28.059356Z"
    },
    "papermill": {
     "duration": 0.174818,
     "end_time": "2023-08-26T08:01:28.062059",
     "exception": false,
     "start_time": "2023-08-26T08:01:27.887241",
     "status": "completed"
    },
    "tags": []
   },
   "outputs": [
    {
     "name": "stderr",
     "output_type": "stream",
     "text": [
      "/tmp/ipykernel_20/4236177945.py:2: FutureWarning: The default value of numeric_only in DataFrameGroupBy.mean is deprecated. In a future version, numeric_only will default to False. Either specify numeric_only or select only columns which should be valid for the function.\n",
      "  credit_card_data.groupby('is_fraud').mean()\n"
     ]
    },
    {
     "data": {
      "text/html": [
       "<div>\n",
       "<style scoped>\n",
       "    .dataframe tbody tr th:only-of-type {\n",
       "        vertical-align: middle;\n",
       "    }\n",
       "\n",
       "    .dataframe tbody tr th {\n",
       "        vertical-align: top;\n",
       "    }\n",
       "\n",
       "    .dataframe thead th {\n",
       "        text-align: right;\n",
       "    }\n",
       "</style>\n",
       "<table border=\"1\" class=\"dataframe\">\n",
       "  <thead>\n",
       "    <tr style=\"text-align: right;\">\n",
       "      <th></th>\n",
       "      <th>Unnamed: 0</th>\n",
       "      <th>cc_num</th>\n",
       "      <th>amt</th>\n",
       "      <th>zip</th>\n",
       "      <th>lat</th>\n",
       "      <th>long</th>\n",
       "      <th>city_pop</th>\n",
       "      <th>unix_time</th>\n",
       "      <th>merch_lat</th>\n",
       "      <th>merch_long</th>\n",
       "    </tr>\n",
       "    <tr>\n",
       "      <th>is_fraud</th>\n",
       "      <th></th>\n",
       "      <th></th>\n",
       "      <th></th>\n",
       "      <th></th>\n",
       "      <th></th>\n",
       "      <th></th>\n",
       "      <th></th>\n",
       "      <th></th>\n",
       "      <th></th>\n",
       "      <th></th>\n",
       "    </tr>\n",
       "  </thead>\n",
       "  <tbody>\n",
       "    <tr>\n",
       "      <th>0</th>\n",
       "      <td>537179.530738</td>\n",
       "      <td>4.174926e+17</td>\n",
       "      <td>67.651278</td>\n",
       "      <td>48817.519363</td>\n",
       "      <td>38.538245</td>\n",
       "      <td>-90.228849</td>\n",
       "      <td>88636.579284</td>\n",
       "      <td>1.358692e+09</td>\n",
       "      <td>38.537950</td>\n",
       "      <td>-90.228935</td>\n",
       "    </tr>\n",
       "    <tr>\n",
       "      <th>1</th>\n",
       "      <td>539849.247228</td>\n",
       "      <td>3.970393e+17</td>\n",
       "      <td>530.661412</td>\n",
       "      <td>47999.638379</td>\n",
       "      <td>38.742813</td>\n",
       "      <td>-90.033730</td>\n",
       "      <td>89998.422961</td>\n",
       "      <td>1.355323e+09</td>\n",
       "      <td>38.734962</td>\n",
       "      <td>-90.037919</td>\n",
       "    </tr>\n",
       "  </tbody>\n",
       "</table>\n",
       "</div>"
      ],
      "text/plain": [
       "             Unnamed: 0        cc_num         amt           zip        lat  \\\n",
       "is_fraud                                                                     \n",
       "0         537179.530738  4.174926e+17   67.651278  48817.519363  38.538245   \n",
       "1         539849.247228  3.970393e+17  530.661412  47999.638379  38.742813   \n",
       "\n",
       "               long      city_pop     unix_time  merch_lat  merch_long  \n",
       "is_fraud                                                                \n",
       "0        -90.228849  88636.579284  1.358692e+09  38.537950  -90.228935  \n",
       "1        -90.033730  89998.422961  1.355323e+09  38.734962  -90.037919  "
      ]
     },
     "execution_count": 12,
     "metadata": {},
     "output_type": "execute_result"
    }
   ],
   "source": [
    "# compare the values for both transactions\n",
    "credit_card_data.groupby('is_fraud').mean()"
   ]
  },
  {
   "cell_type": "code",
   "execution_count": 13,
   "id": "7ccc7e32",
   "metadata": {
    "execution": {
     "iopub.execute_input": "2023-08-26T08:01:28.076960Z",
     "iopub.status.busy": "2023-08-26T08:01:28.076682Z",
     "iopub.status.idle": "2023-08-26T08:01:28.136221Z",
     "shell.execute_reply": "2023-08-26T08:01:28.135315Z"
    },
    "papermill": {
     "duration": 0.069284,
     "end_time": "2023-08-26T08:01:28.138426",
     "exception": false,
     "start_time": "2023-08-26T08:01:28.069142",
     "status": "completed"
    },
    "tags": []
   },
   "outputs": [],
   "source": [
    "# under-sampling\n",
    "# build sample dataset containing similar distribution of normal transactions and fraudulent transactions\n",
    "legit_sample=legit.sample(n=2145)"
   ]
  },
  {
   "cell_type": "code",
   "execution_count": 14,
   "id": "d390cbaa",
   "metadata": {
    "execution": {
     "iopub.execute_input": "2023-08-26T08:01:28.153720Z",
     "iopub.status.busy": "2023-08-26T08:01:28.153266Z",
     "iopub.status.idle": "2023-08-26T08:01:28.163896Z",
     "shell.execute_reply": "2023-08-26T08:01:28.163055Z"
    },
    "papermill": {
     "duration": 0.020283,
     "end_time": "2023-08-26T08:01:28.165902",
     "exception": false,
     "start_time": "2023-08-26T08:01:28.145619",
     "status": "completed"
    },
    "tags": []
   },
   "outputs": [],
   "source": [
    "# concatenating two dataFrames\n",
    "new_dataset=pd.concat([legit_sample,fraud],axis=0)"
   ]
  },
  {
   "cell_type": "code",
   "execution_count": 15,
   "id": "633c16b0",
   "metadata": {
    "execution": {
     "iopub.execute_input": "2023-08-26T08:01:28.180888Z",
     "iopub.status.busy": "2023-08-26T08:01:28.180600Z",
     "iopub.status.idle": "2023-08-26T08:01:28.200420Z",
     "shell.execute_reply": "2023-08-26T08:01:28.199497Z"
    },
    "papermill": {
     "duration": 0.028998,
     "end_time": "2023-08-26T08:01:28.202099",
     "exception": false,
     "start_time": "2023-08-26T08:01:28.173101",
     "status": "completed"
    },
    "tags": []
   },
   "outputs": [
    {
     "data": {
      "text/html": [
       "<div>\n",
       "<style scoped>\n",
       "    .dataframe tbody tr th:only-of-type {\n",
       "        vertical-align: middle;\n",
       "    }\n",
       "\n",
       "    .dataframe tbody tr th {\n",
       "        vertical-align: top;\n",
       "    }\n",
       "\n",
       "    .dataframe thead th {\n",
       "        text-align: right;\n",
       "    }\n",
       "</style>\n",
       "<table border=\"1\" class=\"dataframe\">\n",
       "  <thead>\n",
       "    <tr style=\"text-align: right;\">\n",
       "      <th></th>\n",
       "      <th>Unnamed: 0</th>\n",
       "      <th>trans_date_trans_time</th>\n",
       "      <th>cc_num</th>\n",
       "      <th>merchant</th>\n",
       "      <th>category</th>\n",
       "      <th>amt</th>\n",
       "      <th>first</th>\n",
       "      <th>last</th>\n",
       "      <th>gender</th>\n",
       "      <th>street</th>\n",
       "      <th>...</th>\n",
       "      <th>lat</th>\n",
       "      <th>long</th>\n",
       "      <th>city_pop</th>\n",
       "      <th>job</th>\n",
       "      <th>dob</th>\n",
       "      <th>trans_num</th>\n",
       "      <th>unix_time</th>\n",
       "      <th>merch_lat</th>\n",
       "      <th>merch_long</th>\n",
       "      <th>is_fraud</th>\n",
       "    </tr>\n",
       "  </thead>\n",
       "  <tbody>\n",
       "    <tr>\n",
       "      <th>626975</th>\n",
       "      <td>626975</td>\n",
       "      <td>2019-09-23 12:24:09</td>\n",
       "      <td>6011348830550197</td>\n",
       "      <td>fraud_Eichmann-Kilback</td>\n",
       "      <td>home</td>\n",
       "      <td>103.96</td>\n",
       "      <td>Samuel</td>\n",
       "      <td>Johnston</td>\n",
       "      <td>M</td>\n",
       "      <td>16285 Jessica Lights</td>\n",
       "      <td>...</td>\n",
       "      <td>33.4629</td>\n",
       "      <td>-86.7904</td>\n",
       "      <td>493806</td>\n",
       "      <td>Musician</td>\n",
       "      <td>1980-07-12</td>\n",
       "      <td>562633cebdf3a2ca8ba1b8546affb4f9</td>\n",
       "      <td>1348403049</td>\n",
       "      <td>33.604981</td>\n",
       "      <td>-87.244852</td>\n",
       "      <td>0</td>\n",
       "    </tr>\n",
       "    <tr>\n",
       "      <th>168220</th>\n",
       "      <td>168220</td>\n",
       "      <td>2019-03-30 08:38:10</td>\n",
       "      <td>630423337322</td>\n",
       "      <td>fraud_Robel, Cummerata and Prosacco</td>\n",
       "      <td>gas_transport</td>\n",
       "      <td>44.57</td>\n",
       "      <td>Stephanie</td>\n",
       "      <td>Gill</td>\n",
       "      <td>F</td>\n",
       "      <td>43039 Riley Greens Suite 393</td>\n",
       "      <td>...</td>\n",
       "      <td>48.8878</td>\n",
       "      <td>-118.2105</td>\n",
       "      <td>149</td>\n",
       "      <td>Special educational needs teacher</td>\n",
       "      <td>1978-06-21</td>\n",
       "      <td>c36c64b3acacb44a6dda6475eac8d3a0</td>\n",
       "      <td>1333096690</td>\n",
       "      <td>48.370258</td>\n",
       "      <td>-118.580003</td>\n",
       "      <td>0</td>\n",
       "    </tr>\n",
       "    <tr>\n",
       "      <th>21782</th>\n",
       "      <td>21782</td>\n",
       "      <td>2020-06-28 22:31:54</td>\n",
       "      <td>4378993458389626</td>\n",
       "      <td>fraud_Altenwerth-Kilback</td>\n",
       "      <td>home</td>\n",
       "      <td>24.18</td>\n",
       "      <td>Travis</td>\n",
       "      <td>Hayes</td>\n",
       "      <td>M</td>\n",
       "      <td>1561 Chase Grove</td>\n",
       "      <td>...</td>\n",
       "      <td>43.9742</td>\n",
       "      <td>-71.1503</td>\n",
       "      <td>3807</td>\n",
       "      <td>Surgeon</td>\n",
       "      <td>1999-10-25</td>\n",
       "      <td>fbc2f0b1198cbf5e5ae6fc67dadd96b2</td>\n",
       "      <td>1372458714</td>\n",
       "      <td>44.142477</td>\n",
       "      <td>-70.974676</td>\n",
       "      <td>0</td>\n",
       "    </tr>\n",
       "    <tr>\n",
       "      <th>586986</th>\n",
       "      <td>586986</td>\n",
       "      <td>2019-09-06 11:33:06</td>\n",
       "      <td>4561546772499</td>\n",
       "      <td>fraud_Mosciski, Gislason and Mertz</td>\n",
       "      <td>grocery_pos</td>\n",
       "      <td>66.80</td>\n",
       "      <td>Daniel</td>\n",
       "      <td>Briggs</td>\n",
       "      <td>M</td>\n",
       "      <td>7118 Jessica Unions Apt. 789</td>\n",
       "      <td>...</td>\n",
       "      <td>34.9889</td>\n",
       "      <td>-106.0609</td>\n",
       "      <td>7268</td>\n",
       "      <td>Therapist, art</td>\n",
       "      <td>1988-08-04</td>\n",
       "      <td>25a53843a53fb4394cdaf378035dc2f5</td>\n",
       "      <td>1346931186</td>\n",
       "      <td>34.824587</td>\n",
       "      <td>-106.475432</td>\n",
       "      <td>0</td>\n",
       "    </tr>\n",
       "    <tr>\n",
       "      <th>1066854</th>\n",
       "      <td>1066854</td>\n",
       "      <td>2020-03-18 16:49:38</td>\n",
       "      <td>3595192916105588</td>\n",
       "      <td>fraud_Hoppe-Parisian</td>\n",
       "      <td>kids_pets</td>\n",
       "      <td>103.67</td>\n",
       "      <td>Dustin</td>\n",
       "      <td>Roberts</td>\n",
       "      <td>M</td>\n",
       "      <td>3283 James Station</td>\n",
       "      <td>...</td>\n",
       "      <td>35.0583</td>\n",
       "      <td>-79.0080</td>\n",
       "      <td>238602</td>\n",
       "      <td>Scientist, research (maths)</td>\n",
       "      <td>1993-05-14</td>\n",
       "      <td>0b2830150c1d3fd064abbfe396d4fedd</td>\n",
       "      <td>1363625378</td>\n",
       "      <td>34.617394</td>\n",
       "      <td>-78.412512</td>\n",
       "      <td>0</td>\n",
       "    </tr>\n",
       "  </tbody>\n",
       "</table>\n",
       "<p>5 rows × 23 columns</p>\n",
       "</div>"
      ],
      "text/plain": [
       "         Unnamed: 0 trans_date_trans_time            cc_num  \\\n",
       "626975       626975   2019-09-23 12:24:09  6011348830550197   \n",
       "168220       168220   2019-03-30 08:38:10      630423337322   \n",
       "21782         21782   2020-06-28 22:31:54  4378993458389626   \n",
       "586986       586986   2019-09-06 11:33:06     4561546772499   \n",
       "1066854     1066854   2020-03-18 16:49:38  3595192916105588   \n",
       "\n",
       "                                    merchant       category     amt  \\\n",
       "626975                fraud_Eichmann-Kilback           home  103.96   \n",
       "168220   fraud_Robel, Cummerata and Prosacco  gas_transport   44.57   \n",
       "21782               fraud_Altenwerth-Kilback           home   24.18   \n",
       "586986    fraud_Mosciski, Gislason and Mertz    grocery_pos   66.80   \n",
       "1066854                 fraud_Hoppe-Parisian      kids_pets  103.67   \n",
       "\n",
       "             first      last gender                        street  ...  \\\n",
       "626975      Samuel  Johnston      M          16285 Jessica Lights  ...   \n",
       "168220   Stephanie      Gill      F  43039 Riley Greens Suite 393  ...   \n",
       "21782       Travis     Hayes      M              1561 Chase Grove  ...   \n",
       "586986      Daniel    Briggs      M  7118 Jessica Unions Apt. 789  ...   \n",
       "1066854     Dustin   Roberts      M            3283 James Station  ...   \n",
       "\n",
       "             lat      long  city_pop                                job  \\\n",
       "626975   33.4629  -86.7904    493806                           Musician   \n",
       "168220   48.8878 -118.2105       149  Special educational needs teacher   \n",
       "21782    43.9742  -71.1503      3807                            Surgeon   \n",
       "586986   34.9889 -106.0609      7268                     Therapist, art   \n",
       "1066854  35.0583  -79.0080    238602        Scientist, research (maths)   \n",
       "\n",
       "                dob                         trans_num   unix_time  merch_lat  \\\n",
       "626975   1980-07-12  562633cebdf3a2ca8ba1b8546affb4f9  1348403049  33.604981   \n",
       "168220   1978-06-21  c36c64b3acacb44a6dda6475eac8d3a0  1333096690  48.370258   \n",
       "21782    1999-10-25  fbc2f0b1198cbf5e5ae6fc67dadd96b2  1372458714  44.142477   \n",
       "586986   1988-08-04  25a53843a53fb4394cdaf378035dc2f5  1346931186  34.824587   \n",
       "1066854  1993-05-14  0b2830150c1d3fd064abbfe396d4fedd  1363625378  34.617394   \n",
       "\n",
       "         merch_long  is_fraud  \n",
       "626975   -87.244852         0  \n",
       "168220  -118.580003         0  \n",
       "21782    -70.974676         0  \n",
       "586986  -106.475432         0  \n",
       "1066854  -78.412512         0  \n",
       "\n",
       "[5 rows x 23 columns]"
      ]
     },
     "execution_count": 15,
     "metadata": {},
     "output_type": "execute_result"
    }
   ],
   "source": [
    "new_dataset.head()"
   ]
  },
  {
   "cell_type": "code",
   "execution_count": 16,
   "id": "69c788c4",
   "metadata": {
    "execution": {
     "iopub.execute_input": "2023-08-26T08:01:28.217450Z",
     "iopub.status.busy": "2023-08-26T08:01:28.217122Z",
     "iopub.status.idle": "2023-08-26T08:01:28.236377Z",
     "shell.execute_reply": "2023-08-26T08:01:28.235355Z"
    },
    "papermill": {
     "duration": 0.028999,
     "end_time": "2023-08-26T08:01:28.238210",
     "exception": false,
     "start_time": "2023-08-26T08:01:28.209211",
     "status": "completed"
    },
    "tags": []
   },
   "outputs": [
    {
     "data": {
      "text/html": [
       "<div>\n",
       "<style scoped>\n",
       "    .dataframe tbody tr th:only-of-type {\n",
       "        vertical-align: middle;\n",
       "    }\n",
       "\n",
       "    .dataframe tbody tr th {\n",
       "        vertical-align: top;\n",
       "    }\n",
       "\n",
       "    .dataframe thead th {\n",
       "        text-align: right;\n",
       "    }\n",
       "</style>\n",
       "<table border=\"1\" class=\"dataframe\">\n",
       "  <thead>\n",
       "    <tr style=\"text-align: right;\">\n",
       "      <th></th>\n",
       "      <th>Unnamed: 0</th>\n",
       "      <th>trans_date_trans_time</th>\n",
       "      <th>cc_num</th>\n",
       "      <th>merchant</th>\n",
       "      <th>category</th>\n",
       "      <th>amt</th>\n",
       "      <th>first</th>\n",
       "      <th>last</th>\n",
       "      <th>gender</th>\n",
       "      <th>street</th>\n",
       "      <th>...</th>\n",
       "      <th>lat</th>\n",
       "      <th>long</th>\n",
       "      <th>city_pop</th>\n",
       "      <th>job</th>\n",
       "      <th>dob</th>\n",
       "      <th>trans_num</th>\n",
       "      <th>unix_time</th>\n",
       "      <th>merch_lat</th>\n",
       "      <th>merch_long</th>\n",
       "      <th>is_fraud</th>\n",
       "    </tr>\n",
       "  </thead>\n",
       "  <tbody>\n",
       "    <tr>\n",
       "      <th>1295399</th>\n",
       "      <td>1295399</td>\n",
       "      <td>2020-06-21 01:00:08</td>\n",
       "      <td>3524574586339330</td>\n",
       "      <td>fraud_Kassulke PLC</td>\n",
       "      <td>shopping_net</td>\n",
       "      <td>977.01</td>\n",
       "      <td>Ashley</td>\n",
       "      <td>Cabrera</td>\n",
       "      <td>F</td>\n",
       "      <td>94225 Smith Springs Apt. 617</td>\n",
       "      <td>...</td>\n",
       "      <td>27.6330</td>\n",
       "      <td>-80.4031</td>\n",
       "      <td>105638</td>\n",
       "      <td>Librarian, public</td>\n",
       "      <td>1986-05-07</td>\n",
       "      <td>a83b093f0c1d9068fa0089f7c722615f</td>\n",
       "      <td>1371776408</td>\n",
       "      <td>26.888686</td>\n",
       "      <td>-80.834389</td>\n",
       "      <td>1</td>\n",
       "    </tr>\n",
       "    <tr>\n",
       "      <th>1295491</th>\n",
       "      <td>1295491</td>\n",
       "      <td>2020-06-21 01:53:35</td>\n",
       "      <td>3524574586339330</td>\n",
       "      <td>fraud_Schumm PLC</td>\n",
       "      <td>shopping_net</td>\n",
       "      <td>1210.91</td>\n",
       "      <td>Ashley</td>\n",
       "      <td>Cabrera</td>\n",
       "      <td>F</td>\n",
       "      <td>94225 Smith Springs Apt. 617</td>\n",
       "      <td>...</td>\n",
       "      <td>27.6330</td>\n",
       "      <td>-80.4031</td>\n",
       "      <td>105638</td>\n",
       "      <td>Librarian, public</td>\n",
       "      <td>1986-05-07</td>\n",
       "      <td>f75b35bed13b9e692f170dba45a15b21</td>\n",
       "      <td>1371779615</td>\n",
       "      <td>28.216707</td>\n",
       "      <td>-79.855648</td>\n",
       "      <td>1</td>\n",
       "    </tr>\n",
       "    <tr>\n",
       "      <th>1295532</th>\n",
       "      <td>1295532</td>\n",
       "      <td>2020-06-21 02:16:56</td>\n",
       "      <td>4005676619255478</td>\n",
       "      <td>fraud_Tillman, Dickinson and Labadie</td>\n",
       "      <td>gas_transport</td>\n",
       "      <td>10.24</td>\n",
       "      <td>William</td>\n",
       "      <td>Perry</td>\n",
       "      <td>M</td>\n",
       "      <td>458 Phillips Island Apt. 768</td>\n",
       "      <td>...</td>\n",
       "      <td>30.4590</td>\n",
       "      <td>-90.9027</td>\n",
       "      <td>71335</td>\n",
       "      <td>Herbalist</td>\n",
       "      <td>1994-05-31</td>\n",
       "      <td>a0ba2472cd3fc9731f2a18d3f308f5c3</td>\n",
       "      <td>1371781016</td>\n",
       "      <td>29.700456</td>\n",
       "      <td>-91.361632</td>\n",
       "      <td>1</td>\n",
       "    </tr>\n",
       "    <tr>\n",
       "      <th>1295666</th>\n",
       "      <td>1295666</td>\n",
       "      <td>2020-06-21 03:26:20</td>\n",
       "      <td>3560725013359375</td>\n",
       "      <td>fraud_Corwin-Collins</td>\n",
       "      <td>gas_transport</td>\n",
       "      <td>21.69</td>\n",
       "      <td>Brooke</td>\n",
       "      <td>Smith</td>\n",
       "      <td>F</td>\n",
       "      <td>63542 Luna Brook Apt. 012</td>\n",
       "      <td>...</td>\n",
       "      <td>31.8599</td>\n",
       "      <td>-102.7413</td>\n",
       "      <td>23</td>\n",
       "      <td>Cytogeneticist</td>\n",
       "      <td>1969-09-15</td>\n",
       "      <td>daa281350b1e16093c7b4bf97bf4d6ed</td>\n",
       "      <td>1371785180</td>\n",
       "      <td>32.675272</td>\n",
       "      <td>-103.484949</td>\n",
       "      <td>1</td>\n",
       "    </tr>\n",
       "    <tr>\n",
       "      <th>1295733</th>\n",
       "      <td>1295733</td>\n",
       "      <td>2020-06-21 03:59:46</td>\n",
       "      <td>4005676619255478</td>\n",
       "      <td>fraud_Koss and Sons</td>\n",
       "      <td>gas_transport</td>\n",
       "      <td>10.20</td>\n",
       "      <td>William</td>\n",
       "      <td>Perry</td>\n",
       "      <td>M</td>\n",
       "      <td>458 Phillips Island Apt. 768</td>\n",
       "      <td>...</td>\n",
       "      <td>30.4590</td>\n",
       "      <td>-90.9027</td>\n",
       "      <td>71335</td>\n",
       "      <td>Herbalist</td>\n",
       "      <td>1994-05-31</td>\n",
       "      <td>0c1c20470fc0d16019b5c368cadf563a</td>\n",
       "      <td>1371787186</td>\n",
       "      <td>31.363252</td>\n",
       "      <td>-89.932309</td>\n",
       "      <td>1</td>\n",
       "    </tr>\n",
       "  </tbody>\n",
       "</table>\n",
       "<p>5 rows × 23 columns</p>\n",
       "</div>"
      ],
      "text/plain": [
       "         Unnamed: 0 trans_date_trans_time            cc_num  \\\n",
       "1295399     1295399   2020-06-21 01:00:08  3524574586339330   \n",
       "1295491     1295491   2020-06-21 01:53:35  3524574586339330   \n",
       "1295532     1295532   2020-06-21 02:16:56  4005676619255478   \n",
       "1295666     1295666   2020-06-21 03:26:20  3560725013359375   \n",
       "1295733     1295733   2020-06-21 03:59:46  4005676619255478   \n",
       "\n",
       "                                     merchant       category      amt  \\\n",
       "1295399                    fraud_Kassulke PLC   shopping_net   977.01   \n",
       "1295491                      fraud_Schumm PLC   shopping_net  1210.91   \n",
       "1295532  fraud_Tillman, Dickinson and Labadie  gas_transport    10.24   \n",
       "1295666                  fraud_Corwin-Collins  gas_transport    21.69   \n",
       "1295733                   fraud_Koss and Sons  gas_transport    10.20   \n",
       "\n",
       "           first     last gender                        street  ...      lat  \\\n",
       "1295399   Ashley  Cabrera      F  94225 Smith Springs Apt. 617  ...  27.6330   \n",
       "1295491   Ashley  Cabrera      F  94225 Smith Springs Apt. 617  ...  27.6330   \n",
       "1295532  William    Perry      M  458 Phillips Island Apt. 768  ...  30.4590   \n",
       "1295666   Brooke    Smith      F     63542 Luna Brook Apt. 012  ...  31.8599   \n",
       "1295733  William    Perry      M  458 Phillips Island Apt. 768  ...  30.4590   \n",
       "\n",
       "             long  city_pop                job         dob  \\\n",
       "1295399  -80.4031    105638  Librarian, public  1986-05-07   \n",
       "1295491  -80.4031    105638  Librarian, public  1986-05-07   \n",
       "1295532  -90.9027     71335          Herbalist  1994-05-31   \n",
       "1295666 -102.7413        23     Cytogeneticist  1969-09-15   \n",
       "1295733  -90.9027     71335          Herbalist  1994-05-31   \n",
       "\n",
       "                                trans_num   unix_time  merch_lat  merch_long  \\\n",
       "1295399  a83b093f0c1d9068fa0089f7c722615f  1371776408  26.888686  -80.834389   \n",
       "1295491  f75b35bed13b9e692f170dba45a15b21  1371779615  28.216707  -79.855648   \n",
       "1295532  a0ba2472cd3fc9731f2a18d3f308f5c3  1371781016  29.700456  -91.361632   \n",
       "1295666  daa281350b1e16093c7b4bf97bf4d6ed  1371785180  32.675272 -103.484949   \n",
       "1295733  0c1c20470fc0d16019b5c368cadf563a  1371787186  31.363252  -89.932309   \n",
       "\n",
       "         is_fraud  \n",
       "1295399         1  \n",
       "1295491         1  \n",
       "1295532         1  \n",
       "1295666         1  \n",
       "1295733         1  \n",
       "\n",
       "[5 rows x 23 columns]"
      ]
     },
     "execution_count": 16,
     "metadata": {},
     "output_type": "execute_result"
    }
   ],
   "source": [
    "new_dataset.tail()"
   ]
  },
  {
   "cell_type": "code",
   "execution_count": 17,
   "id": "996a5478",
   "metadata": {
    "execution": {
     "iopub.execute_input": "2023-08-26T08:01:28.254702Z",
     "iopub.status.busy": "2023-08-26T08:01:28.253981Z",
     "iopub.status.idle": "2023-08-26T08:01:28.260951Z",
     "shell.execute_reply": "2023-08-26T08:01:28.260245Z"
    },
    "papermill": {
     "duration": 0.016747,
     "end_time": "2023-08-26T08:01:28.262545",
     "exception": false,
     "start_time": "2023-08-26T08:01:28.245798",
     "status": "completed"
    },
    "tags": []
   },
   "outputs": [
    {
     "data": {
      "text/plain": [
       "1    9651\n",
       "0    2145\n",
       "Name: is_fraud, dtype: int64"
      ]
     },
     "execution_count": 17,
     "metadata": {},
     "output_type": "execute_result"
    }
   ],
   "source": [
    "new_dataset['is_fraud'].value_counts()"
   ]
  },
  {
   "cell_type": "code",
   "execution_count": 18,
   "id": "1b9af132",
   "metadata": {
    "execution": {
     "iopub.execute_input": "2023-08-26T08:01:28.278776Z",
     "iopub.status.busy": "2023-08-26T08:01:28.278245Z",
     "iopub.status.idle": "2023-08-26T08:01:28.286965Z",
     "shell.execute_reply": "2023-08-26T08:01:28.286308Z"
    },
    "papermill": {
     "duration": 0.018758,
     "end_time": "2023-08-26T08:01:28.288711",
     "exception": false,
     "start_time": "2023-08-26T08:01:28.269953",
     "status": "completed"
    },
    "tags": []
   },
   "outputs": [],
   "source": [
    "# splitting the data into features and target\n",
    "features = ['amt', 'zip', 'lat', 'long', 'city_pop', 'unix_time', 'merch_lat', 'merch_long']\n",
    "x = new_dataset[features]\n",
    "y=new_dataset['is_fraud']"
   ]
  },
  {
   "cell_type": "code",
   "execution_count": 19,
   "id": "0efeecad",
   "metadata": {
    "execution": {
     "iopub.execute_input": "2023-08-26T08:01:28.305273Z",
     "iopub.status.busy": "2023-08-26T08:01:28.304733Z",
     "iopub.status.idle": "2023-08-26T08:01:28.314616Z",
     "shell.execute_reply": "2023-08-26T08:01:28.313267Z"
    },
    "papermill": {
     "duration": 0.02034,
     "end_time": "2023-08-26T08:01:28.316711",
     "exception": false,
     "start_time": "2023-08-26T08:01:28.296371",
     "status": "completed"
    },
    "tags": []
   },
   "outputs": [
    {
     "name": "stdout",
     "output_type": "stream",
     "text": [
      "             amt    zip      lat      long  city_pop   unix_time  merch_lat  \\\n",
      "626975    103.96  35229  33.4629  -86.7904    493806  1348403049  33.604981   \n",
      "168220     44.57  99160  48.8878 -118.2105       149  1333096690  48.370258   \n",
      "21782      24.18   3818  43.9742  -71.1503      3807  1372458714  44.142477   \n",
      "586986     66.80  87035  34.9889 -106.0609      7268  1346931186  34.824587   \n",
      "1066854   103.67  28314  35.0583  -79.0080    238602  1363625378  34.617394   \n",
      "...          ...    ...      ...       ...       ...         ...        ...   \n",
      "1295399   977.01  32960  27.6330  -80.4031    105638  1371776408  26.888686   \n",
      "1295491  1210.91  32960  27.6330  -80.4031    105638  1371779615  28.216707   \n",
      "1295532    10.24  70726  30.4590  -90.9027     71335  1371781016  29.700456   \n",
      "1295666    21.69  79759  31.8599 -102.7413        23  1371785180  32.675272   \n",
      "1295733    10.20  70726  30.4590  -90.9027     71335  1371787186  31.363252   \n",
      "\n",
      "         merch_long  \n",
      "626975   -87.244852  \n",
      "168220  -118.580003  \n",
      "21782    -70.974676  \n",
      "586986  -106.475432  \n",
      "1066854  -78.412512  \n",
      "...             ...  \n",
      "1295399  -80.834389  \n",
      "1295491  -79.855648  \n",
      "1295532  -91.361632  \n",
      "1295666 -103.484949  \n",
      "1295733  -89.932309  \n",
      "\n",
      "[11796 rows x 8 columns]\n"
     ]
    }
   ],
   "source": [
    "print(x)"
   ]
  },
  {
   "cell_type": "code",
   "execution_count": 20,
   "id": "c185530e",
   "metadata": {
    "execution": {
     "iopub.execute_input": "2023-08-26T08:01:28.335143Z",
     "iopub.status.busy": "2023-08-26T08:01:28.334541Z",
     "iopub.status.idle": "2023-08-26T08:01:28.340739Z",
     "shell.execute_reply": "2023-08-26T08:01:28.339570Z"
    },
    "papermill": {
     "duration": 0.017351,
     "end_time": "2023-08-26T08:01:28.342565",
     "exception": false,
     "start_time": "2023-08-26T08:01:28.325214",
     "status": "completed"
    },
    "tags": []
   },
   "outputs": [
    {
     "name": "stdout",
     "output_type": "stream",
     "text": [
      "626975     0\n",
      "168220     0\n",
      "21782      0\n",
      "586986     0\n",
      "1066854    0\n",
      "          ..\n",
      "1295399    1\n",
      "1295491    1\n",
      "1295532    1\n",
      "1295666    1\n",
      "1295733    1\n",
      "Name: is_fraud, Length: 11796, dtype: int64\n"
     ]
    }
   ],
   "source": [
    "print(y)"
   ]
  },
  {
   "cell_type": "code",
   "execution_count": 21,
   "id": "38dedc31",
   "metadata": {
    "execution": {
     "iopub.execute_input": "2023-08-26T08:01:28.360042Z",
     "iopub.status.busy": "2023-08-26T08:01:28.359640Z",
     "iopub.status.idle": "2023-08-26T08:01:28.373019Z",
     "shell.execute_reply": "2023-08-26T08:01:28.372002Z"
    },
    "papermill": {
     "duration": 0.024403,
     "end_time": "2023-08-26T08:01:28.374928",
     "exception": false,
     "start_time": "2023-08-26T08:01:28.350525",
     "status": "completed"
    },
    "tags": []
   },
   "outputs": [],
   "source": [
    "# split data into train and test data \n",
    "x_train,x_test,y_train,y_test=train_test_split(x,y,test_size=0.2,\n",
    "                                               \n",
    "                                               stratify=y,random_state=2)"
   ]
  },
  {
   "cell_type": "code",
   "execution_count": 22,
   "id": "d18123d4",
   "metadata": {
    "execution": {
     "iopub.execute_input": "2023-08-26T08:01:28.392942Z",
     "iopub.status.busy": "2023-08-26T08:01:28.392533Z",
     "iopub.status.idle": "2023-08-26T08:01:28.398144Z",
     "shell.execute_reply": "2023-08-26T08:01:28.396980Z"
    },
    "papermill": {
     "duration": 0.016816,
     "end_time": "2023-08-26T08:01:28.399901",
     "exception": false,
     "start_time": "2023-08-26T08:01:28.383085",
     "status": "completed"
    },
    "tags": []
   },
   "outputs": [
    {
     "name": "stdout",
     "output_type": "stream",
     "text": [
      "(11796, 8) (9436, 8) (2360, 8)\n"
     ]
    }
   ],
   "source": [
    "print(x.shape,x_train.shape,x_test.shape)"
   ]
  },
  {
   "cell_type": "code",
   "execution_count": 23,
   "id": "3d54aa92",
   "metadata": {
    "execution": {
     "iopub.execute_input": "2023-08-26T08:01:28.417676Z",
     "iopub.status.busy": "2023-08-26T08:01:28.417357Z",
     "iopub.status.idle": "2023-08-26T08:01:28.422162Z",
     "shell.execute_reply": "2023-08-26T08:01:28.421291Z"
    },
    "papermill": {
     "duration": 0.015879,
     "end_time": "2023-08-26T08:01:28.424013",
     "exception": false,
     "start_time": "2023-08-26T08:01:28.408134",
     "status": "completed"
    },
    "tags": []
   },
   "outputs": [],
   "source": [
    "# model training\n",
    "#Logistic Regression\n",
    "model=LogisticRegression()"
   ]
  },
  {
   "cell_type": "code",
   "execution_count": 24,
   "id": "b23e6a34",
   "metadata": {
    "execution": {
     "iopub.execute_input": "2023-08-26T08:01:28.441111Z",
     "iopub.status.busy": "2023-08-26T08:01:28.440797Z",
     "iopub.status.idle": "2023-08-26T08:01:28.474152Z",
     "shell.execute_reply": "2023-08-26T08:01:28.473354Z"
    },
    "papermill": {
     "duration": 0.044206,
     "end_time": "2023-08-26T08:01:28.476378",
     "exception": false,
     "start_time": "2023-08-26T08:01:28.432172",
     "status": "completed"
    },
    "tags": []
   },
   "outputs": [
    {
     "data": {
      "text/html": [
       "<style>#sk-container-id-1 {color: black;background-color: white;}#sk-container-id-1 pre{padding: 0;}#sk-container-id-1 div.sk-toggleable {background-color: white;}#sk-container-id-1 label.sk-toggleable__label {cursor: pointer;display: block;width: 100%;margin-bottom: 0;padding: 0.3em;box-sizing: border-box;text-align: center;}#sk-container-id-1 label.sk-toggleable__label-arrow:before {content: \"▸\";float: left;margin-right: 0.25em;color: #696969;}#sk-container-id-1 label.sk-toggleable__label-arrow:hover:before {color: black;}#sk-container-id-1 div.sk-estimator:hover label.sk-toggleable__label-arrow:before {color: black;}#sk-container-id-1 div.sk-toggleable__content {max-height: 0;max-width: 0;overflow: hidden;text-align: left;background-color: #f0f8ff;}#sk-container-id-1 div.sk-toggleable__content pre {margin: 0.2em;color: black;border-radius: 0.25em;background-color: #f0f8ff;}#sk-container-id-1 input.sk-toggleable__control:checked~div.sk-toggleable__content {max-height: 200px;max-width: 100%;overflow: auto;}#sk-container-id-1 input.sk-toggleable__control:checked~label.sk-toggleable__label-arrow:before {content: \"▾\";}#sk-container-id-1 div.sk-estimator input.sk-toggleable__control:checked~label.sk-toggleable__label {background-color: #d4ebff;}#sk-container-id-1 div.sk-label input.sk-toggleable__control:checked~label.sk-toggleable__label {background-color: #d4ebff;}#sk-container-id-1 input.sk-hidden--visually {border: 0;clip: rect(1px 1px 1px 1px);clip: rect(1px, 1px, 1px, 1px);height: 1px;margin: -1px;overflow: hidden;padding: 0;position: absolute;width: 1px;}#sk-container-id-1 div.sk-estimator {font-family: monospace;background-color: #f0f8ff;border: 1px dotted black;border-radius: 0.25em;box-sizing: border-box;margin-bottom: 0.5em;}#sk-container-id-1 div.sk-estimator:hover {background-color: #d4ebff;}#sk-container-id-1 div.sk-parallel-item::after {content: \"\";width: 100%;border-bottom: 1px solid gray;flex-grow: 1;}#sk-container-id-1 div.sk-label:hover label.sk-toggleable__label {background-color: #d4ebff;}#sk-container-id-1 div.sk-serial::before {content: \"\";position: absolute;border-left: 1px solid gray;box-sizing: border-box;top: 0;bottom: 0;left: 50%;z-index: 0;}#sk-container-id-1 div.sk-serial {display: flex;flex-direction: column;align-items: center;background-color: white;padding-right: 0.2em;padding-left: 0.2em;position: relative;}#sk-container-id-1 div.sk-item {position: relative;z-index: 1;}#sk-container-id-1 div.sk-parallel {display: flex;align-items: stretch;justify-content: center;background-color: white;position: relative;}#sk-container-id-1 div.sk-item::before, #sk-container-id-1 div.sk-parallel-item::before {content: \"\";position: absolute;border-left: 1px solid gray;box-sizing: border-box;top: 0;bottom: 0;left: 50%;z-index: -1;}#sk-container-id-1 div.sk-parallel-item {display: flex;flex-direction: column;z-index: 1;position: relative;background-color: white;}#sk-container-id-1 div.sk-parallel-item:first-child::after {align-self: flex-end;width: 50%;}#sk-container-id-1 div.sk-parallel-item:last-child::after {align-self: flex-start;width: 50%;}#sk-container-id-1 div.sk-parallel-item:only-child::after {width: 0;}#sk-container-id-1 div.sk-dashed-wrapped {border: 1px dashed gray;margin: 0 0.4em 0.5em 0.4em;box-sizing: border-box;padding-bottom: 0.4em;background-color: white;}#sk-container-id-1 div.sk-label label {font-family: monospace;font-weight: bold;display: inline-block;line-height: 1.2em;}#sk-container-id-1 div.sk-label-container {text-align: center;}#sk-container-id-1 div.sk-container {/* jupyter's `normalize.less` sets `[hidden] { display: none; }` but bootstrap.min.css set `[hidden] { display: none !important; }` so we also need the `!important` here to be able to override the default hidden behavior on the sphinx rendered scikit-learn.org. See: https://github.com/scikit-learn/scikit-learn/issues/21755 */display: inline-block !important;position: relative;}#sk-container-id-1 div.sk-text-repr-fallback {display: none;}</style><div id=\"sk-container-id-1\" class=\"sk-top-container\"><div class=\"sk-text-repr-fallback\"><pre>LogisticRegression()</pre><b>In a Jupyter environment, please rerun this cell to show the HTML representation or trust the notebook. <br />On GitHub, the HTML representation is unable to render, please try loading this page with nbviewer.org.</b></div><div class=\"sk-container\" hidden><div class=\"sk-item\"><div class=\"sk-estimator sk-toggleable\"><input class=\"sk-toggleable__control sk-hidden--visually\" id=\"sk-estimator-id-1\" type=\"checkbox\" checked><label for=\"sk-estimator-id-1\" class=\"sk-toggleable__label sk-toggleable__label-arrow\">LogisticRegression</label><div class=\"sk-toggleable__content\"><pre>LogisticRegression()</pre></div></div></div></div></div>"
      ],
      "text/plain": [
       "LogisticRegression()"
      ]
     },
     "execution_count": 24,
     "metadata": {},
     "output_type": "execute_result"
    }
   ],
   "source": [
    "# training logistic regression model with training data\n",
    "model.fit(x_train,y_train)"
   ]
  },
  {
   "cell_type": "code",
   "execution_count": 25,
   "id": "bcd76dc6",
   "metadata": {
    "execution": {
     "iopub.execute_input": "2023-08-26T08:01:28.500611Z",
     "iopub.status.busy": "2023-08-26T08:01:28.499739Z",
     "iopub.status.idle": "2023-08-26T08:01:28.507597Z",
     "shell.execute_reply": "2023-08-26T08:01:28.506687Z"
    },
    "papermill": {
     "duration": 0.022578,
     "end_time": "2023-08-26T08:01:28.509695",
     "exception": false,
     "start_time": "2023-08-26T08:01:28.487117",
     "status": "completed"
    },
    "tags": []
   },
   "outputs": [],
   "source": [
    "# Model Evaluation\n",
    "# Accuracy Score\n",
    "x_train_prediction=model.predict(x_test)\n",
    "training_data_accuracy=accuracy_score(x_train_prediction,y_test)"
   ]
  },
  {
   "cell_type": "code",
   "execution_count": 26,
   "id": "e137289f",
   "metadata": {
    "execution": {
     "iopub.execute_input": "2023-08-26T08:01:28.532709Z",
     "iopub.status.busy": "2023-08-26T08:01:28.531775Z",
     "iopub.status.idle": "2023-08-26T08:01:28.536841Z",
     "shell.execute_reply": "2023-08-26T08:01:28.535881Z"
    },
    "papermill": {
     "duration": 0.019254,
     "end_time": "2023-08-26T08:01:28.539949",
     "exception": false,
     "start_time": "2023-08-26T08:01:28.520695",
     "status": "completed"
    },
    "tags": []
   },
   "outputs": [
    {
     "name": "stdout",
     "output_type": "stream",
     "text": [
      "Accuracy on Training data: 0.8182203389830508\n"
     ]
    }
   ],
   "source": [
    "print('Accuracy on Training data:',training_data_accuracy)"
   ]
  },
  {
   "cell_type": "code",
   "execution_count": null,
   "id": "ef4297ad",
   "metadata": {
    "papermill": {
     "duration": 0.009962,
     "end_time": "2023-08-26T08:01:28.560082",
     "exception": false,
     "start_time": "2023-08-26T08:01:28.550120",
     "status": "completed"
    },
    "tags": []
   },
   "outputs": [],
   "source": []
  },
  {
   "cell_type": "code",
   "execution_count": null,
   "id": "8ca8ee51",
   "metadata": {
    "papermill": {
     "duration": 0.009747,
     "end_time": "2023-08-26T08:01:28.579656",
     "exception": false,
     "start_time": "2023-08-26T08:01:28.569909",
     "status": "completed"
    },
    "tags": []
   },
   "outputs": [],
   "source": []
  }
 ],
 "metadata": {
  "kernelspec": {
   "display_name": "Python 3",
   "language": "python",
   "name": "python3"
  },
  "language_info": {
   "codemirror_mode": {
    "name": "ipython",
    "version": 3
   },
   "file_extension": ".py",
   "mimetype": "text/x-python",
   "name": "python",
   "nbconvert_exporter": "python",
   "pygments_lexer": "ipython3",
   "version": "3.10.12"
  },
  "papermill": {
   "default_parameters": {},
   "duration": 27.600537,
   "end_time": "2023-08-26T08:01:29.710909",
   "environment_variables": {},
   "exception": null,
   "input_path": "__notebook__.ipynb",
   "output_path": "__notebook__.ipynb",
   "parameters": {},
   "start_time": "2023-08-26T08:01:02.110372",
   "version": "2.4.0"
  }
 },
 "nbformat": 4,
 "nbformat_minor": 5
}
